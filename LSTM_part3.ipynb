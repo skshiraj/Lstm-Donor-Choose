{
 "cells": [
  {
   "cell_type": "markdown",
   "metadata": {
    "colab_type": "text",
    "id": "7Od5bBp9N1Lg"
   },
   "source": [
    "# DonorsChoose"
   ]
  },
  {
   "cell_type": "markdown",
   "metadata": {
    "colab_type": "text",
    "id": "5u7wpFZwN1Lh"
   },
   "source": [
    "<p>\n",
    "DonorsChoose.org receives hundreds of thousands of project proposals each year for classroom projects in need of funding. Right now, a large number of volunteers is needed to manually screen each submission before it's approved to be posted on the DonorsChoose.org website.\n",
    "</p>\n",
    "<p>\n",
    "    Next year, DonorsChoose.org expects to receive close to 500,000 project proposals. As a result, there are three main problems they need to solve:\n",
    "<ul>\n",
    "<li>\n",
    "    How to scale current manual processes and resources to screen 500,000 projects so that they can be posted as quickly and as efficiently as possible</li>\n",
    "    <li>How to increase the consistency of project vetting across different volunteers to improve the experience for teachers</li>\n",
    "    <li>How to focus volunteer time on the applications that need the most assistance</li>\n",
    "    </ul>\n",
    "</p>    \n",
    "<p>\n",
    "The goal of the competition is to predict whether or not a DonorsChoose.org project proposal submitted by a teacher will be approved, using the text of project descriptions as well as additional metadata about the project, teacher, and school. DonorsChoose.org can then use this information to identify projects most likely to need further review before approval.\n",
    "</p>"
   ]
  },
  {
   "cell_type": "markdown",
   "metadata": {
    "colab_type": "text",
    "id": "keOckW8PN1Li"
   },
   "source": [
    "## About the DonorsChoose Data Set\n",
    "\n",
    "The `train.csv` data set provided by DonorsChoose contains the following features:\n",
    "\n",
    "Feature | Description \n",
    "----------|---------------\n",
    "**`project_id`** | A unique identifier for the proposed project. **Example:** `p036502`   \n",
    "**`project_title`**    | Title of the project. **Examples:**<br><ul><li><code>Art Will Make You Happy!</code></li><li><code>First Grade Fun</code></li></ul> \n",
    "**`project_grade_category`** | Grade level of students for which the project is targeted. One of the following enumerated values: <br/><ul><li><code>Grades PreK-2</code></li><li><code>Grades 3-5</code></li><li><code>Grades 6-8</code></li><li><code>Grades 9-12</code></li></ul>  \n",
    " **`project_subject_categories`** | One or more (comma-separated) subject categories for the project from the following enumerated list of values:  <br/><ul><li><code>Applied Learning</code></li><li><code>Care &amp; Hunger</code></li><li><code>Health &amp; Sports</code></li><li><code>History &amp; Civics</code></li><li><code>Literacy &amp; Language</code></li><li><code>Math &amp; Science</code></li><li><code>Music &amp; The Arts</code></li><li><code>Special Needs</code></li><li><code>Warmth</code></li></ul><br/> **Examples:** <br/><ul><li><code>Music &amp; The Arts</code></li><li><code>Literacy &amp; Language, Math &amp; Science</code></li>  \n",
    "  **`school_state`** | State where school is located ([Two-letter U.S. postal code](https://en.wikipedia.org/wiki/List_of_U.S._state_abbreviations#Postal_codes)). **Example:** `WY`\n",
    "**`project_subject_subcategories`** | One or more (comma-separated) subject subcategories for the project. **Examples:** <br/><ul><li><code>Literacy</code></li><li><code>Literature &amp; Writing, Social Sciences</code></li></ul> \n",
    "**`project_resource_summary`** | An explanation of the resources needed for the project. **Example:** <br/><ul><li><code>My students need hands on literacy materials to manage sensory needs!</code</li></ul> \n",
    "**`project_essay_1`**    | First application essay<sup>*</sup>  \n",
    "**`project_essay_2`**    | Second application essay<sup>*</sup> \n",
    "**`project_essay_3`**    | Third application essay<sup>*</sup> \n",
    "**`project_essay_4`**    | Fourth application essay<sup>*</sup> \n",
    "**`project_submitted_datetime`** | Datetime when project application was submitted. **Example:** `2016-04-28 12:43:56.245`   \n",
    "**`teacher_id`** | A unique identifier for the teacher of the proposed project. **Example:** `bdf8baa8fedef6bfeec7ae4ff1c15c56`  \n",
    "**`teacher_prefix`** | Teacher's title. One of the following enumerated values: <br/><ul><li><code>nan</code></li><li><code>Dr.</code></li><li><code>Mr.</code></li><li><code>Mrs.</code></li><li><code>Ms.</code></li><li><code>Teacher.</code></li></ul>  \n",
    "**`teacher_number_of_previously_posted_projects`** | Number of project applications previously submitted by the same teacher. **Example:** `2` \n",
    "\n",
    "<sup>*</sup> See the section <b>Notes on the Essay Data</b> for more details about these features.\n",
    "\n",
    "Additionally, the `resources.csv` data set provides more data about the resources required for each project. Each line in this file represents a resource required by a project:\n",
    "\n",
    "Feature | Description \n",
    "----------|---------------\n",
    "**`id`** | A `project_id` value from the `train.csv` file.  **Example:** `p036502`   \n",
    "**`description`** | Desciption of the resource. **Example:** `Tenor Saxophone Reeds, Box of 25`   \n",
    "**`quantity`** | Quantity of the resource required. **Example:** `3`   \n",
    "**`price`** | Price of the resource required. **Example:** `9.95`   \n",
    "\n",
    "**Note:** Many projects require multiple resources. The `id` value corresponds to a `project_id` in train.csv, so you use it as a key to retrieve all resources needed for a project:\n",
    "\n",
    "The data set contains the following label (the value you will attempt to predict):\n",
    "\n",
    "Label | Description\n",
    "----------|---------------\n",
    "`project_is_approved` | A binary flag indicating whether DonorsChoose approved the project. A value of `0` indicates the project was not approved, and a value of `1` indicates the project was approved."
   ]
  },
  {
   "cell_type": "markdown",
   "metadata": {
    "colab_type": "text",
    "id": "uxakXcmGN1Lj"
   },
   "source": [
    "### Notes on the Essay Data\n",
    "\n",
    "<ul>\n",
    "Prior to May 17, 2016, the prompts for the essays were as follows:\n",
    "<li>__project_essay_1:__ \"Introduce us to your classroom\"</li>\n",
    "<li>__project_essay_2:__ \"Tell us more about your students\"</li>\n",
    "<li>__project_essay_3:__ \"Describe how your students will use the materials you're requesting\"</li>\n",
    "<li>__project_essay_3:__ \"Close by sharing why your project will make a difference\"</li>\n",
    "</ul>\n",
    "\n",
    "\n",
    "<ul>\n",
    "Starting on May 17, 2016, the number of essays was reduced from 4 to 2, and the prompts for the first 2 essays were changed to the following:<br>\n",
    "<li>__project_essay_1:__ \"Describe your students: What makes your students special? Specific details about their background, your neighborhood, and your school are all helpful.\"</li>\n",
    "<li>__project_essay_2:__ \"About your project: How will these materials make a difference in your students' learning and improve their school lives?\"</li>\n",
    "<br>For all projects with project_submitted_datetime of 2016-05-17 and later, the values of project_essay_3 and project_essay_4 will be NaN.\n",
    "</ul>\n"
   ]
  },
  {
   "cell_type": "code",
   "execution_count": 1,
   "metadata": {
    "colab": {
     "base_uri": "https://localhost:8080/",
     "height": 122
    },
    "colab_type": "code",
    "executionInfo": {
     "elapsed": 26677,
     "status": "ok",
     "timestamp": 1575494466784,
     "user": {
      "displayName": "Himanshu Bandoliya",
      "photoUrl": "",
      "userId": "03705328663112349542"
     },
     "user_tz": -330
    },
    "id": "gvViuW07p3hI",
    "outputId": "5645cb9b-1b52-4472-bb5a-f00d09bf4ef0"
   },
   "outputs": [
    {
     "name": "stdout",
     "output_type": "stream",
     "text": [
      "Go to this URL in a browser: https://accounts.google.com/o/oauth2/auth?client_id=947318989803-6bn6qk8qdgf4n4g3pfee6491hc0brc4i.apps.googleusercontent.com&redirect_uri=urn%3aietf%3awg%3aoauth%3a2.0%3aoob&response_type=code&scope=email%20https%3a%2f%2fwww.googleapis.com%2fauth%2fdocs.test%20https%3a%2f%2fwww.googleapis.com%2fauth%2fdrive%20https%3a%2f%2fwww.googleapis.com%2fauth%2fdrive.photos.readonly%20https%3a%2f%2fwww.googleapis.com%2fauth%2fpeopleapi.readonly\n",
      "\n",
      "Enter your authorization code:\n",
      "··········\n",
      "Mounted at /content/drive\n"
     ]
    }
   ],
   "source": [
    "from google.colab import drive\n",
    "drive.mount('/content/drive')"
   ]
  },
  {
   "cell_type": "code",
   "execution_count": 2,
   "metadata": {
    "colab": {
     "base_uri": "https://localhost:8080/",
     "height": 97,
     "output_embedded_package_id": "142A3N-QAwuFYFAa-V2KX2sBK7JavoNyF"
    },
    "colab_type": "code",
    "executionInfo": {
     "elapsed": 7030,
     "status": "ok",
     "timestamp": 1575494475913,
     "user": {
      "displayName": "Himanshu Bandoliya",
      "photoUrl": "",
      "userId": "03705328663112349542"
     },
     "user_tz": -330
    },
    "id": "Ac3XhloUN1Ll",
    "outputId": "7afbf50f-f5ad-4087-a831-fdc4863644d1"
   },
   "outputs": [
    {
     "data": {
      "text/plain": [
       "Output hidden; open in https://colab.research.google.com to view."
      ]
     },
     "metadata": {},
     "output_type": "display_data"
    }
   ],
   "source": [
    "%matplotlib inline\n",
    "import warnings\n",
    "warnings.filterwarnings(\"ignore\")\n",
    "\n",
    "import sqlite3\n",
    "import pandas as pd\n",
    "import numpy as np\n",
    "import nltk\n",
    "import string\n",
    "import matplotlib.pyplot as plt\n",
    "import seaborn as sns\n",
    "from sklearn.feature_extraction.text import TfidfTransformer\n",
    "from sklearn.feature_extraction.text import TfidfVectorizer\n",
    "\n",
    "from sklearn.feature_extraction.text import CountVectorizer\n",
    "from sklearn.metrics import confusion_matrix\n",
    "from sklearn import metrics\n",
    "from sklearn.metrics import roc_curve, auc\n",
    "from nltk.stem.porter import PorterStemmer\n",
    "from sklearn.preprocessing import LabelEncoder\n",
    "import re\n",
    "# Tutorial about Python regular expressions: https://pymotw.com/2/re/\n",
    "import string\n",
    "from nltk.corpus import stopwords\n",
    "from nltk.stem import PorterStemmer\n",
    "from nltk.stem.wordnet import WordNetLemmatizer\n",
    "\n",
    "from gensim.models import Word2Vec\n",
    "from gensim.models import KeyedVectors\n",
    "import pickle\n",
    "\n",
    "from tqdm import tqdm\n",
    "import os\n",
    "\n",
    "from chart_studio import plotly\n",
    "import plotly.offline as offline\n",
    "import plotly.graph_objs as go\n",
    "offline.init_notebook_mode()\n",
    "from collections import Counter\n",
    "from keras.utils import to_categorical\n",
    "\n",
    "from tensorflow.keras.callbacks import TensorBoard"
   ]
  },
  {
   "cell_type": "code",
   "execution_count": 0,
   "metadata": {
    "colab": {},
    "colab_type": "code",
    "id": "XFNE3SRwyh81"
   },
   "outputs": [],
   "source": [
    "import matplotlib.pyplot as plt\n",
    "from sklearn.neighbors import KNeighborsClassifier\n",
    "from sklearn.metrics import roc_auc_score\n",
    "from scipy.sparse import hstack\n",
    "from numpy import zeros\n",
    "from keras.preprocessing.text import Tokenizer\n",
    "from keras.preprocessing.sequence import pad_sequences\n",
    "from tensorflow.keras.layers import Input\n",
    "from tensorflow.keras.layers import Flatten\n",
    "from tensorflow.keras.layers import Embedding\n",
    "from tensorflow.keras.layers import LSTM,Bidirectional\n",
    "from tensorflow.keras.models import Model, load_model\n",
    "from tensorflow.keras.layers import BatchNormalization\n",
    "from tensorflow.keras.callbacks import ReduceLROnPlateau\n",
    "from tensorflow.keras.layers import Dense\n"
   ]
  },
  {
   "cell_type": "markdown",
   "metadata": {
    "colab_type": "text",
    "id": "So4PAGWPN1Lv"
   },
   "source": [
    "## 1.1 Reading Data"
   ]
  },
  {
   "cell_type": "code",
   "execution_count": 0,
   "metadata": {
    "colab": {},
    "colab_type": "code",
    "id": "L00MEEkry0go"
   },
   "outputs": [],
   "source": [
    "file_train = \"/content/drive/My Drive/Colab Notebooks/lstmDonorChoose/train_data.csv\"\n",
    "file_resource = \"/content/drive/My Drive/Colab Notebooks/lstmDonorChoose/resources.csv\""
   ]
  },
  {
   "cell_type": "code",
   "execution_count": 0,
   "metadata": {
    "colab": {},
    "colab_type": "code",
    "id": "kV1VkghZN1Lw"
   },
   "outputs": [],
   "source": [
    "project_data = pd.read_csv(file_train)\n",
    "resource_data = pd.read_csv(file_resource)"
   ]
  },
  {
   "cell_type": "code",
   "execution_count": 6,
   "metadata": {
    "colab": {
     "base_uri": "https://localhost:8080/",
     "height": 153
    },
    "colab_type": "code",
    "executionInfo": {
     "elapsed": 13619,
     "status": "ok",
     "timestamp": 1575494494765,
     "user": {
      "displayName": "Himanshu Bandoliya",
      "photoUrl": "",
      "userId": "03705328663112349542"
     },
     "user_tz": -330
    },
    "id": "2XZKpv2zN1L0",
    "outputId": "f5d90e40-e2be-4554-8e44-f28a4d530d2c"
   },
   "outputs": [
    {
     "name": "stdout",
     "output_type": "stream",
     "text": [
      "Number of data points in train data (109248, 17)\n",
      "--------------------------------------------------\n",
      "The attributes of data : ['Unnamed: 0' 'id' 'teacher_id' 'teacher_prefix' 'school_state'\n",
      " 'project_submitted_datetime' 'project_grade_category'\n",
      " 'project_subject_categories' 'project_subject_subcategories'\n",
      " 'project_title' 'project_essay_1' 'project_essay_2' 'project_essay_3'\n",
      " 'project_essay_4' 'project_resource_summary'\n",
      " 'teacher_number_of_previously_posted_projects' 'project_is_approved']\n"
     ]
    }
   ],
   "source": [
    "print(\"Number of data points in train data\", project_data.shape)\n",
    "print('-'*50)\n",
    "print(\"The attributes of data :\", project_data.columns.values)"
   ]
  },
  {
   "cell_type": "code",
   "execution_count": 7,
   "metadata": {
    "colab": {
     "base_uri": "https://localhost:8080/",
     "height": 145
    },
    "colab_type": "code",
    "executionInfo": {
     "elapsed": 12592,
     "status": "ok",
     "timestamp": 1575494496079,
     "user": {
      "displayName": "Himanshu Bandoliya",
      "photoUrl": "",
      "userId": "03705328663112349542"
     },
     "user_tz": -330
    },
    "id": "56EW1wdvN1L5",
    "outputId": "a6fa1346-941d-4a8c-a131-18c084effbb0"
   },
   "outputs": [
    {
     "name": "stdout",
     "output_type": "stream",
     "text": [
      "Number of data points in resource data (1541272, 4)\n",
      "['id' 'description' 'quantity' 'price']\n"
     ]
    },
    {
     "data": {
      "text/html": [
       "<div>\n",
       "<style scoped>\n",
       "    .dataframe tbody tr th:only-of-type {\n",
       "        vertical-align: middle;\n",
       "    }\n",
       "\n",
       "    .dataframe tbody tr th {\n",
       "        vertical-align: top;\n",
       "    }\n",
       "\n",
       "    .dataframe thead th {\n",
       "        text-align: right;\n",
       "    }\n",
       "</style>\n",
       "<table border=\"1\" class=\"dataframe\">\n",
       "  <thead>\n",
       "    <tr style=\"text-align: right;\">\n",
       "      <th></th>\n",
       "      <th>id</th>\n",
       "      <th>description</th>\n",
       "      <th>quantity</th>\n",
       "      <th>price</th>\n",
       "    </tr>\n",
       "  </thead>\n",
       "  <tbody>\n",
       "    <tr>\n",
       "      <th>0</th>\n",
       "      <td>p233245</td>\n",
       "      <td>LC652 - Lakeshore Double-Space Mobile Drying Rack</td>\n",
       "      <td>1</td>\n",
       "      <td>149.00</td>\n",
       "    </tr>\n",
       "    <tr>\n",
       "      <th>1</th>\n",
       "      <td>p069063</td>\n",
       "      <td>Bouncy Bands for Desks (Blue support pipes)</td>\n",
       "      <td>3</td>\n",
       "      <td>14.95</td>\n",
       "    </tr>\n",
       "  </tbody>\n",
       "</table>\n",
       "</div>"
      ],
      "text/plain": [
       "        id                                        description  quantity   price\n",
       "0  p233245  LC652 - Lakeshore Double-Space Mobile Drying Rack         1  149.00\n",
       "1  p069063        Bouncy Bands for Desks (Blue support pipes)         3   14.95"
      ]
     },
     "execution_count": 7,
     "metadata": {
      "tags": []
     },
     "output_type": "execute_result"
    }
   ],
   "source": [
    "print(\"Number of data points in resource data\", resource_data.shape)\n",
    "print(resource_data.columns.values)\n",
    "resource_data.head(2)"
   ]
  },
  {
   "cell_type": "code",
   "execution_count": 8,
   "metadata": {
    "colab": {
     "base_uri": "https://localhost:8080/",
     "height": 323
    },
    "colab_type": "code",
    "executionInfo": {
     "elapsed": 8836,
     "status": "ok",
     "timestamp": 1575494496081,
     "user": {
      "displayName": "Himanshu Bandoliya",
      "photoUrl": "",
      "userId": "03705328663112349542"
     },
     "user_tz": -330
    },
    "id": "Up2JM3aB1UUI",
    "outputId": "b9065aa3-717a-4f72-a586-dca6b71ac323"
   },
   "outputs": [
    {
     "data": {
      "text/plain": [
       "Unnamed: 0                                           0\n",
       "id                                                   0\n",
       "teacher_id                                           0\n",
       "teacher_prefix                                       3\n",
       "school_state                                         0\n",
       "project_submitted_datetime                           0\n",
       "project_grade_category                               0\n",
       "project_subject_categories                           0\n",
       "project_subject_subcategories                        0\n",
       "project_title                                        0\n",
       "project_essay_1                                      0\n",
       "project_essay_2                                      0\n",
       "project_essay_3                                 105490\n",
       "project_essay_4                                 105490\n",
       "project_resource_summary                             0\n",
       "teacher_number_of_previously_posted_projects         0\n",
       "project_is_approved                                  0\n",
       "dtype: int64"
      ]
     },
     "execution_count": 8,
     "metadata": {
      "tags": []
     },
     "output_type": "execute_result"
    }
   ],
   "source": [
    "project_data.isnull().sum()"
   ]
  },
  {
   "cell_type": "code",
   "execution_count": 0,
   "metadata": {
    "colab": {},
    "colab_type": "code",
    "id": "0PB6I5bi1iTu"
   },
   "outputs": [],
   "source": [
    "project_data= project_data[project_data[\"teacher_prefix\"].notnull()]"
   ]
  },
  {
   "cell_type": "code",
   "execution_count": 10,
   "metadata": {
    "colab": {
     "base_uri": "https://localhost:8080/",
     "height": 323
    },
    "colab_type": "code",
    "executionInfo": {
     "elapsed": 2509,
     "status": "ok",
     "timestamp": 1575494498604,
     "user": {
      "displayName": "Himanshu Bandoliya",
      "photoUrl": "",
      "userId": "03705328663112349542"
     },
     "user_tz": -330
    },
    "id": "6sSnH56d2KW-",
    "outputId": "c1d6f23a-6dbb-4c7e-b9b3-3d60afd08e0a"
   },
   "outputs": [
    {
     "data": {
      "text/plain": [
       "Unnamed: 0                                           0\n",
       "id                                                   0\n",
       "teacher_id                                           0\n",
       "teacher_prefix                                       0\n",
       "school_state                                         0\n",
       "project_submitted_datetime                           0\n",
       "project_grade_category                               0\n",
       "project_subject_categories                           0\n",
       "project_subject_subcategories                        0\n",
       "project_title                                        0\n",
       "project_essay_1                                      0\n",
       "project_essay_2                                      0\n",
       "project_essay_3                                 105488\n",
       "project_essay_4                                 105488\n",
       "project_resource_summary                             0\n",
       "teacher_number_of_previously_posted_projects         0\n",
       "project_is_approved                                  0\n",
       "dtype: int64"
      ]
     },
     "execution_count": 10,
     "metadata": {
      "tags": []
     },
     "output_type": "execute_result"
    }
   ],
   "source": [
    "project_data.isnull().sum()"
   ]
  },
  {
   "cell_type": "markdown",
   "metadata": {
    "colab_type": "text",
    "id": "49t2H2HwN1L8"
   },
   "source": [
    "## 1.2 preprocessing of `project_subject_categories`"
   ]
  },
  {
   "cell_type": "code",
   "execution_count": 0,
   "metadata": {
    "colab": {},
    "colab_type": "code",
    "id": "RMx6975eN1L-"
   },
   "outputs": [],
   "source": [
    "catogories = list(project_data['project_subject_categories'].values)\n",
    "# remove special characters from list of strings python: https://stackoverflow.com/a/47301924/4084039\n",
    "\n",
    "# https://www.geeksforgeeks.org/removing-stop-words-nltk-python/\n",
    "# https://stackoverflow.com/questions/23669024/how-to-strip-a-specific-word-from-a-string\n",
    "# https://stackoverflow.com/questions/8270092/remove-all-whitespace-in-a-string-in-python\n",
    "cat_list = []\n",
    "for i in catogories:\n",
    "    temp = \"\"\n",
    "    # consider we have text like this \"Math & Science, Warmth, Care & Hunger\"\n",
    "    for j in i.split(','): # it will split it in three parts [\"Math & Science\", \"Warmth\", \"Care & Hunger\"]\n",
    "        if 'The' in j.split(): # this will split each of the catogory based on space \"Math & Science\"=> \"Math\",\"&\", \"Science\"\n",
    "            j=j.replace('The','') # if we have the words \"The\" we are going to replace it with ''(i.e removing 'The')\n",
    "        j = j.replace(' ','') # we are placeing all the ' '(space) with ''(empty) ex:\"Math & Science\"=>\"Math&Science\"\n",
    "        temp+=j.strip()+\" \" #\" abc \".strip() will return \"abc\", remove the trailing spaces\n",
    "        temp = temp.replace('&','_') # we are replacing the & value into \n",
    "    cat_list.append(temp.strip())\n",
    "    \n",
    "project_data['clean_categories'] = cat_list\n",
    "project_data.drop(['project_subject_categories'], axis=1, inplace=True)\n",
    "\n",
    "from collections import Counter\n",
    "my_counter = Counter()\n",
    "for word in project_data['clean_categories'].values:\n",
    "    my_counter.update(word.split())\n",
    "\n",
    "cat_dict = dict(my_counter)\n",
    "sorted_cat_dict = dict(sorted(cat_dict.items(), key=lambda kv: kv[1]))\n"
   ]
  },
  {
   "cell_type": "markdown",
   "metadata": {
    "colab_type": "text",
    "id": "hIRe9h-PN1MB"
   },
   "source": [
    "## 1.3 preprocessing of `project_subject_subcategories`"
   ]
  },
  {
   "cell_type": "code",
   "execution_count": 0,
   "metadata": {
    "colab": {},
    "colab_type": "code",
    "id": "KH655NiTN1MD"
   },
   "outputs": [],
   "source": [
    "sub_catogories = list(project_data['project_subject_subcategories'].values)\n",
    "# remove special characters from list of strings python: https://stackoverflow.com/a/47301924/4084039\n",
    "\n",
    "# https://www.geeksforgeeks.org/removing-stop-words-nltk-python/\n",
    "# https://stackoverflow.com/questions/23669024/how-to-strip-a-specific-word-from-a-string\n",
    "# https://stackoverflow.com/questions/8270092/remove-all-whitespace-in-a-string-in-python\n",
    "\n",
    "sub_cat_list = []\n",
    "for i in sub_catogories:\n",
    "    temp = \"\"\n",
    "    # consider we have text like this \"Math & Science, Warmth, Care & Hunger\"\n",
    "    for j in i.split(','): # it will split it in three parts [\"Math & Science\", \"Warmth\", \"Care & Hunger\"]\n",
    "        if 'The' in j.split(): # this will split each of the catogory based on space \"Math & Science\"=> \"Math\",\"&\", \"Science\"\n",
    "            j=j.replace('The','') # if we have the words \"The\" we are going to replace it with ''(i.e removing 'The')\n",
    "        j = j.replace(' ','') # we are placeing all the ' '(space) with ''(empty) ex:\"Math & Science\"=>\"Math&Science\"\n",
    "        temp +=j.strip()+\" \"#\" abc \".strip() will return \"abc\", remove the trailing spaces\n",
    "        temp = temp.replace('&','_')\n",
    "    sub_cat_list.append(temp.strip())\n",
    "\n",
    "project_data['clean_subcategories'] = sub_cat_list\n",
    "project_data.drop(['project_subject_subcategories'], axis=1, inplace=True)\n",
    "\n",
    "# count of all the words in corpus python: https://stackoverflow.com/a/22898595/4084039\n",
    "my_counter = Counter()\n",
    "for word in project_data['clean_subcategories'].values:\n",
    "    my_counter.update(word.split())\n",
    "    \n",
    "sub_cat_dict = dict(my_counter)\n",
    "sorted_sub_cat_dict = dict(sorted(sub_cat_dict.items(), key=lambda kv: kv[1]))"
   ]
  },
  {
   "cell_type": "markdown",
   "metadata": {
    "colab_type": "text",
    "id": "EftBxw8MN1MG"
   },
   "source": [
    "## 1.3 Text preprocessing"
   ]
  },
  {
   "cell_type": "code",
   "execution_count": 0,
   "metadata": {
    "colab": {},
    "colab_type": "code",
    "id": "Ak4yp4twN1MH"
   },
   "outputs": [],
   "source": [
    "# merge two column text dataframe: \n",
    "project_data[\"essay\"] = project_data[\"project_essay_1\"].map(str) +\\\n",
    "                        project_data[\"project_essay_2\"].map(str) + \\\n",
    "                        project_data[\"project_essay_3\"].map(str) + \\\n",
    "                        project_data[\"project_essay_4\"].map(str)"
   ]
  },
  {
   "cell_type": "code",
   "execution_count": 14,
   "metadata": {
    "colab": {
     "base_uri": "https://localhost:8080/",
     "height": 352
    },
    "colab_type": "code",
    "executionInfo": {
     "elapsed": 1247,
     "status": "ok",
     "timestamp": 1575494512119,
     "user": {
      "displayName": "Himanshu Bandoliya",
      "photoUrl": "",
      "userId": "03705328663112349542"
     },
     "user_tz": -330
    },
    "id": "q6ST72vNN1MK",
    "outputId": "74622ed9-6593-4d8d-b191-885dce23663b"
   },
   "outputs": [
    {
     "data": {
      "text/html": [
       "<div>\n",
       "<style scoped>\n",
       "    .dataframe tbody tr th:only-of-type {\n",
       "        vertical-align: middle;\n",
       "    }\n",
       "\n",
       "    .dataframe tbody tr th {\n",
       "        vertical-align: top;\n",
       "    }\n",
       "\n",
       "    .dataframe thead th {\n",
       "        text-align: right;\n",
       "    }\n",
       "</style>\n",
       "<table border=\"1\" class=\"dataframe\">\n",
       "  <thead>\n",
       "    <tr style=\"text-align: right;\">\n",
       "      <th></th>\n",
       "      <th>Unnamed: 0</th>\n",
       "      <th>id</th>\n",
       "      <th>teacher_id</th>\n",
       "      <th>teacher_prefix</th>\n",
       "      <th>school_state</th>\n",
       "      <th>project_submitted_datetime</th>\n",
       "      <th>project_grade_category</th>\n",
       "      <th>project_title</th>\n",
       "      <th>project_essay_1</th>\n",
       "      <th>project_essay_2</th>\n",
       "      <th>project_essay_3</th>\n",
       "      <th>project_essay_4</th>\n",
       "      <th>project_resource_summary</th>\n",
       "      <th>teacher_number_of_previously_posted_projects</th>\n",
       "      <th>project_is_approved</th>\n",
       "      <th>clean_categories</th>\n",
       "      <th>clean_subcategories</th>\n",
       "      <th>essay</th>\n",
       "    </tr>\n",
       "  </thead>\n",
       "  <tbody>\n",
       "    <tr>\n",
       "      <th>0</th>\n",
       "      <td>160221</td>\n",
       "      <td>p253737</td>\n",
       "      <td>c90749f5d961ff158d4b4d1e7dc665fc</td>\n",
       "      <td>Mrs.</td>\n",
       "      <td>IN</td>\n",
       "      <td>2016-12-05 13:43:57</td>\n",
       "      <td>Grades PreK-2</td>\n",
       "      <td>Educational Support for English Learners at Home</td>\n",
       "      <td>My students are English learners that are work...</td>\n",
       "      <td>\\\"The limits of your language are the limits o...</td>\n",
       "      <td>NaN</td>\n",
       "      <td>NaN</td>\n",
       "      <td>My students need opportunities to practice beg...</td>\n",
       "      <td>0</td>\n",
       "      <td>0</td>\n",
       "      <td>Literacy_Language</td>\n",
       "      <td>ESL Literacy</td>\n",
       "      <td>My students are English learners that are work...</td>\n",
       "    </tr>\n",
       "    <tr>\n",
       "      <th>1</th>\n",
       "      <td>140945</td>\n",
       "      <td>p258326</td>\n",
       "      <td>897464ce9ddc600bced1151f324dd63a</td>\n",
       "      <td>Mr.</td>\n",
       "      <td>FL</td>\n",
       "      <td>2016-10-25 09:22:10</td>\n",
       "      <td>Grades 6-8</td>\n",
       "      <td>Wanted: Projector for Hungry Learners</td>\n",
       "      <td>Our students arrive to our school eager to lea...</td>\n",
       "      <td>The projector we need for our school is very c...</td>\n",
       "      <td>NaN</td>\n",
       "      <td>NaN</td>\n",
       "      <td>My students need a projector to help with view...</td>\n",
       "      <td>7</td>\n",
       "      <td>1</td>\n",
       "      <td>History_Civics Health_Sports</td>\n",
       "      <td>Civics_Government TeamSports</td>\n",
       "      <td>Our students arrive to our school eager to lea...</td>\n",
       "    </tr>\n",
       "  </tbody>\n",
       "</table>\n",
       "</div>"
      ],
      "text/plain": [
       "   Unnamed: 0  ...                                              essay\n",
       "0      160221  ...  My students are English learners that are work...\n",
       "1      140945  ...  Our students arrive to our school eager to lea...\n",
       "\n",
       "[2 rows x 18 columns]"
      ]
     },
     "execution_count": 14,
     "metadata": {
      "tags": []
     },
     "output_type": "execute_result"
    }
   ],
   "source": [
    "project_data.head(2)"
   ]
  },
  {
   "cell_type": "code",
   "execution_count": 0,
   "metadata": {
    "colab": {},
    "colab_type": "code",
    "id": "1nYsCeFCN1MW"
   },
   "outputs": [],
   "source": [
    "# https://stackoverflow.com/a/47091490/4084039\n",
    "import re\n",
    "\n",
    "def decontracted(phrase):\n",
    "    # specific\n",
    "    phrase = re.sub(r\"won't\", \"will not\", phrase)\n",
    "    phrase = re.sub(r\"can\\'t\", \"can not\", phrase)\n",
    "\n",
    "    # general\n",
    "    phrase = re.sub(r\"n\\'t\", \" not\", phrase)\n",
    "    phrase = re.sub(r\"\\'re\", \" are\", phrase)\n",
    "    phrase = re.sub(r\"\\'s\", \" is\", phrase)\n",
    "    phrase = re.sub(r\"\\'d\", \" would\", phrase)\n",
    "    phrase = re.sub(r\"\\'ll\", \" will\", phrase)\n",
    "    phrase = re.sub(r\"\\'t\", \" not\", phrase)\n",
    "    phrase = re.sub(r\"\\'ve\", \" have\", phrase)\n",
    "    phrase = re.sub(r\"\\'m\", \" am\", phrase)\n",
    "    return phrase"
   ]
  },
  {
   "cell_type": "code",
   "execution_count": 16,
   "metadata": {
    "colab": {
     "base_uri": "https://localhost:8080/",
     "height": 71
    },
    "colab_type": "code",
    "executionInfo": {
     "elapsed": 989,
     "status": "ok",
     "timestamp": 1575494517031,
     "user": {
      "displayName": "Himanshu Bandoliya",
      "photoUrl": "",
      "userId": "03705328663112349542"
     },
     "user_tz": -330
    },
    "id": "qIr2zr3mN1MZ",
    "outputId": "bab77c30-9e67-4848-ad53-32e3cc3cdaba"
   },
   "outputs": [
    {
     "name": "stdout",
     "output_type": "stream",
     "text": [
      "My wonderful students are 3, 4, and 5 years old.  We are located in a small town outside of Charlotte, NC.  All of my 22 students are children of school district employees.\\r\\nMy students are bright, energetic, and they love to learn!  They love hands-on activities that get them moving.  Like most preschoolers, they enjoy music and creating different things. \\r\\nAll of my students come from wonderful families that are very supportive of our classroom.  Our parents enjoy watching their children is growth as much as we do!These materials will help me teach my students all about the life cycle of a butterfly.  We will watch as the Painted Lady caterpillars grow bigger and build their chrysalis.  After a few weeks they will emerge from the chrysalis as beautiful butterflies!  We already have a net for the chrysalises, but we still need the caterpillars and feeding station.\\r\\nThis will be an unforgettable experience for my students.  My student absolutely love hands-on materials.  They learn so much from getting to touch and manipulate different things.  The supporting materials I have selected will help my students understand the life cycle through exploration.nannan\n",
      "==================================================\n"
     ]
    }
   ],
   "source": [
    "sent = decontracted(project_data['essay'].values[20000])\n",
    "print(sent)\n",
    "print(\"=\"*50)"
   ]
  },
  {
   "cell_type": "code",
   "execution_count": 17,
   "metadata": {
    "colab": {
     "base_uri": "https://localhost:8080/",
     "height": 54
    },
    "colab_type": "code",
    "executionInfo": {
     "elapsed": 926,
     "status": "ok",
     "timestamp": 1575494519289,
     "user": {
      "displayName": "Himanshu Bandoliya",
      "photoUrl": "",
      "userId": "03705328663112349542"
     },
     "user_tz": -330
    },
    "id": "QybPh11vN1Md",
    "outputId": "94798955-c599-4eb5-84f1-7415b30ad7c1"
   },
   "outputs": [
    {
     "name": "stdout",
     "output_type": "stream",
     "text": [
      "My wonderful students are 3, 4, and 5 years old.  We are located in a small town outside of Charlotte, NC.  All of my 22 students are children of school district employees.  My students are bright, energetic, and they love to learn!  They love hands-on activities that get them moving.  Like most preschoolers, they enjoy music and creating different things.   All of my students come from wonderful families that are very supportive of our classroom.  Our parents enjoy watching their children is growth as much as we do!These materials will help me teach my students all about the life cycle of a butterfly.  We will watch as the Painted Lady caterpillars grow bigger and build their chrysalis.  After a few weeks they will emerge from the chrysalis as beautiful butterflies!  We already have a net for the chrysalises, but we still need the caterpillars and feeding station.  This will be an unforgettable experience for my students.  My student absolutely love hands-on materials.  They learn so much from getting to touch and manipulate different things.  The supporting materials I have selected will help my students understand the life cycle through exploration.nannan\n"
     ]
    }
   ],
   "source": [
    "# \\r \\n \\t remove from string python: http://texthandler.com/info/remove-line-breaks-python/\n",
    "sent = sent.replace('\\\\r', ' ')\n",
    "sent = sent.replace('\\\\\"', ' ')\n",
    "sent = sent.replace('\\\\n', ' ')\n",
    "print(sent)"
   ]
  },
  {
   "cell_type": "code",
   "execution_count": 18,
   "metadata": {
    "colab": {
     "base_uri": "https://localhost:8080/",
     "height": 54
    },
    "colab_type": "code",
    "executionInfo": {
     "elapsed": 974,
     "status": "ok",
     "timestamp": 1575494521015,
     "user": {
      "displayName": "Himanshu Bandoliya",
      "photoUrl": "",
      "userId": "03705328663112349542"
     },
     "user_tz": -330
    },
    "id": "irL9f3wBN1Mj",
    "outputId": "89fe234a-96d4-4368-b243-463419662b53"
   },
   "outputs": [
    {
     "name": "stdout",
     "output_type": "stream",
     "text": [
      "My wonderful students are 3 4 and 5 years old We are located in a small town outside of Charlotte NC All of my 22 students are children of school district employees My students are bright energetic and they love to learn They love hands on activities that get them moving Like most preschoolers they enjoy music and creating different things All of my students come from wonderful families that are very supportive of our classroom Our parents enjoy watching their children is growth as much as we do These materials will help me teach my students all about the life cycle of a butterfly We will watch as the Painted Lady caterpillars grow bigger and build their chrysalis After a few weeks they will emerge from the chrysalis as beautiful butterflies We already have a net for the chrysalises but we still need the caterpillars and feeding station This will be an unforgettable experience for my students My student absolutely love hands on materials They learn so much from getting to touch and manipulate different things The supporting materials I have selected will help my students understand the life cycle through exploration nannan\n"
     ]
    }
   ],
   "source": [
    "#remove spacial character: https://stackoverflow.com/a/5843547/4084039\n",
    "sent = re.sub('[^A-Za-z0-9]+', ' ', sent)\n",
    "print(sent)"
   ]
  },
  {
   "cell_type": "code",
   "execution_count": 0,
   "metadata": {
    "colab": {},
    "colab_type": "code",
    "id": "mOBm8phKN1Mp"
   },
   "outputs": [],
   "source": [
    "# https://gist.github.com/sebleier/554280\n",
    "# we are removing the words from the stop words list: 'no', 'nor', 'not'\n",
    "stopwords= ['i', 'me', 'my', 'myself', 'we', 'our', 'ours', 'ourselves', 'you', \"you're\", \"you've\",\\\n",
    "            \"you'll\", \"you'd\", 'your', 'yours', 'yourself', 'yourselves', 'he', 'him', 'his', 'himself', \\\n",
    "            'she', \"she's\", 'her', 'hers', 'herself', 'it', \"it's\", 'its', 'itself', 'they', 'them', 'their',\\\n",
    "            'theirs', 'themselves', 'what', 'which', 'who', 'whom', 'this', 'that', \"that'll\", 'these', 'those', \\\n",
    "            'am', 'is', 'are', 'was', 'were', 'be', 'been', 'being', 'have', 'has', 'had', 'having', 'do', 'does', \\\n",
    "            'did', 'doing', 'a', 'an', 'the', 'and', 'but', 'if', 'or', 'because', 'as', 'until', 'while', 'of', \\\n",
    "            'at', 'by', 'for', 'with', 'about', 'against', 'between', 'into', 'through', 'during', 'before', 'after',\\\n",
    "            'above', 'below', 'to', 'from', 'up', 'down', 'in', 'out', 'on', 'off', 'over', 'under', 'again', 'further',\\\n",
    "            'then', 'once', 'here', 'there', 'when', 'where', 'why', 'how', 'all', 'any', 'both', 'each', 'few', 'more',\\\n",
    "            'most', 'other', 'some', 'such', 'only', 'own', 'same', 'so', 'than', 'too', 'very', \\\n",
    "            's', 't', 'can', 'will', 'just', 'don', \"don't\", 'should', \"should've\", 'now', 'd', 'll', 'm', 'o', 're', \\\n",
    "            've', 'y', 'ain', 'aren', \"aren't\", 'couldn', \"couldn't\", 'didn', \"didn't\", 'doesn', \"doesn't\", 'hadn',\\\n",
    "            \"hadn't\", 'hasn', \"hasn't\", 'haven', \"haven't\", 'isn', \"isn't\", 'ma', 'mightn', \"mightn't\", 'mustn',\\\n",
    "            \"mustn't\", 'needn', \"needn't\", 'shan', \"shan't\", 'shouldn', \"shouldn't\", 'wasn', \"wasn't\", 'weren', \"weren't\", \\\n",
    "            'won', \"won't\", 'wouldn', \"wouldn't\"]"
   ]
  },
  {
   "cell_type": "code",
   "execution_count": 20,
   "metadata": {
    "colab": {
     "base_uri": "https://localhost:8080/",
     "height": 34
    },
    "colab_type": "code",
    "executionInfo": {
     "elapsed": 13045,
     "status": "ok",
     "timestamp": 1575494539747,
     "user": {
      "displayName": "Himanshu Bandoliya",
      "photoUrl": "",
      "userId": "03705328663112349542"
     },
     "user_tz": -330
    },
    "id": "ttJf1f7ON1Mt",
    "outputId": "91811e1f-b047-45f5-fcf6-36569def81a5"
   },
   "outputs": [
    {
     "name": "stderr",
     "output_type": "stream",
     "text": [
      "100%|██████████| 109245/109245 [00:12<00:00, 8884.03it/s]\n"
     ]
    }
   ],
   "source": [
    "# Combining all the above stundents \n",
    "from tqdm import tqdm\n",
    "preprocessed_essays = []\n",
    "# tqdm is for printing the status bar\n",
    "for sentance in tqdm(project_data['essay'].values):\n",
    "    sent = decontracted(sentance)\n",
    "    sent = sent.replace('\\\\r', ' ')\n",
    "    sent = sent.replace('\\\\\"', ' ')\n",
    "    sent = sent.replace('\\\\n', ' ')\n",
    "    sent = re.sub('[^A-Za-z0-9]+', ' ', sent)\n",
    "    # https://gist.github.com/sebleier/554280\n",
    "    sent = ' '.join(e for e in sent.split())\n",
    "    preprocessed_essays.append(sent.lower().strip())"
   ]
  },
  {
   "cell_type": "markdown",
   "metadata": {
    "colab_type": "text",
    "id": "4AFlP-F-N1M0"
   },
   "source": [
    "<h2><font color='red'> 1.4 Preprocessing of `project_title`</font></h2>"
   ]
  },
  {
   "cell_type": "code",
   "execution_count": 21,
   "metadata": {
    "colab": {
     "base_uri": "https://localhost:8080/",
     "height": 34
    },
    "colab_type": "code",
    "executionInfo": {
     "elapsed": 2858,
     "status": "ok",
     "timestamp": 1575494542621,
     "user": {
      "displayName": "Himanshu Bandoliya",
      "photoUrl": "",
      "userId": "03705328663112349542"
     },
     "user_tz": -330
    },
    "id": "FCdq9z5FN1M1",
    "outputId": "d626afdd-8c29-4343-f4e0-60b0d270a9c1"
   },
   "outputs": [
    {
     "name": "stderr",
     "output_type": "stream",
     "text": [
      "100%|██████████| 109245/109245 [00:01<00:00, 55769.39it/s]\n"
     ]
    }
   ],
   "source": [
    "# similarly you can preprocess the titles also\n",
    "preprocessed_titles = []\n",
    "for sentance in tqdm(project_data['project_title'].values):\n",
    "    sent = decontracted(sentance)\n",
    "    sent = re.sub('[^A-Za-z0-9]+', ' ', sent)\n",
    "    # https://gist.github.com/sebleier/554280\n",
    "    sent = ' '.join(e for e in sent.split() if e not in stopwords)\n",
    "    preprocessed_titles.append(sent.lower().strip())"
   ]
  },
  {
   "cell_type": "markdown",
   "metadata": {
    "colab_type": "text",
    "id": "js2WD9bON1M5"
   },
   "source": []
  },
  {
   "cell_type": "code",
   "execution_count": 22,
   "metadata": {
    "colab": {
     "base_uri": "https://localhost:8080/",
     "height": 136
    },
    "colab_type": "code",
    "executionInfo": {
     "elapsed": 2846,
     "status": "ok",
     "timestamp": 1575494542622,
     "user": {
      "displayName": "Himanshu Bandoliya",
      "photoUrl": "",
      "userId": "03705328663112349542"
     },
     "user_tz": -330
    },
    "id": "Kh3xw4fpN1M6",
    "outputId": "c82918f3-412d-4aea-9c95-05dd28b46f11"
   },
   "outputs": [
    {
     "data": {
      "text/plain": [
       "Index(['Unnamed: 0', 'id', 'teacher_id', 'teacher_prefix', 'school_state',\n",
       "       'project_submitted_datetime', 'project_grade_category', 'project_title',\n",
       "       'project_essay_1', 'project_essay_2', 'project_essay_3',\n",
       "       'project_essay_4', 'project_resource_summary',\n",
       "       'teacher_number_of_previously_posted_projects', 'project_is_approved',\n",
       "       'clean_categories', 'clean_subcategories', 'essay'],\n",
       "      dtype='object')"
      ]
     },
     "execution_count": 22,
     "metadata": {
      "tags": []
     },
     "output_type": "execute_result"
    }
   ],
   "source": [
    "project_data.columns"
   ]
  },
  {
   "cell_type": "markdown",
   "metadata": {
    "colab_type": "text",
    "id": "tLfdQa8hN1M9"
   },
   "source": [
    "we are going to consider\n",
    "\n",
    "       - school_state : categorical data\n",
    "       - clean_categories : categorical data\n",
    "       - clean_subcategories : categorical data\n",
    "       - project_grade_category : categorical data\n",
    "       - teacher_prefix : categorical data\n",
    "       \n",
    "       - project_title : text data\n",
    "       - text : text data\n",
    "       - project_resource_summary: text data (optinal)\n",
    "       \n",
    "       - quantity : numerical (optinal)\n",
    "       - teacher_number_of_previously_posted_projects : numerical\n",
    "       - price : numerical"
   ]
  },
  {
   "cell_type": "code",
   "execution_count": 0,
   "metadata": {
    "colab": {},
    "colab_type": "code",
    "id": "GavfhROYN1Nt"
   },
   "outputs": [],
   "source": [
    "price_data = resource_data.groupby('id').agg({'price':'sum', 'quantity':'sum'}).reset_index()\n",
    "project_data = pd.merge(project_data, price_data, on='id', how='left')"
   ]
  },
  {
   "cell_type": "code",
   "execution_count": 25,
   "metadata": {
    "colab": {
     "base_uri": "https://localhost:8080/",
     "height": 34
    },
    "colab_type": "code",
    "executionInfo": {
     "elapsed": 1387,
     "status": "ok",
     "timestamp": 1575494547219,
     "user": {
      "displayName": "Himanshu Bandoliya",
      "photoUrl": "",
      "userId": "03705328663112349542"
     },
     "user_tz": -330
    },
    "id": "qdNOyR5fN1Ny",
    "outputId": "4c72ad2b-863f-460f-f5eb-937cf13c4663"
   },
   "outputs": [
    {
     "name": "stdout",
     "output_type": "stream",
     "text": [
      "Mean : 298.1152448166964, Standard deviation : 367.49642545627506\n"
     ]
    }
   ],
   "source": [
    "# check this one: https://www.youtube.com/watch?v=0HOqOcln3Z4&t=530s\n",
    "# standardization sklearn: https://scikit-learn.org/stable/modules/generated/sklearn.preprocessing.StandardScaler.html\n",
    "from sklearn.preprocessing import StandardScaler\n",
    "\n",
    "# price_standardized = standardScalar.fit(project_data['price'].values)\n",
    "# this will rise the error\n",
    "# ValueError: Expected 2D array, got 1D array instead: array=[725.05 213.03 329.   ... 399.   287.73   5.5 ].\n",
    "# Reshape your data either using array.reshape(-1, 1)\n",
    "\n",
    "price_scalar = StandardScaler()\n",
    "price_scalar.fit(project_data['price'].values.reshape(-1,1)) # finding the mean and standard deviation of this data\n",
    "print(f\"Mean : {price_scalar.mean_[0]}, Standard deviation : {np.sqrt(price_scalar.var_[0])}\")\n",
    "\n",
    "# Now standardize the data with above maen and variance.\n",
    "price_standardized = price_scalar.transform(project_data['price'].values.reshape(-1, 1))"
   ]
  },
  {
   "cell_type": "code",
   "execution_count": 26,
   "metadata": {
    "colab": {
     "base_uri": "https://localhost:8080/",
     "height": 136
    },
    "colab_type": "code",
    "executionInfo": {
     "elapsed": 949,
     "status": "ok",
     "timestamp": 1575494552310,
     "user": {
      "displayName": "Himanshu Bandoliya",
      "photoUrl": "",
      "userId": "03705328663112349542"
     },
     "user_tz": -330
    },
    "id": "yGDhSrheN1N0",
    "outputId": "4f81b9f7-2bc4-4b96-d3b3-3f1171a2758b"
   },
   "outputs": [
    {
     "data": {
      "text/plain": [
       "array([[-0.39052147],\n",
       "       [ 0.00240752],\n",
       "       [ 0.5952024 ],\n",
       "       ...,\n",
       "       [-0.1582471 ],\n",
       "       [-0.61242839],\n",
       "       [-0.51215531]])"
      ]
     },
     "execution_count": 26,
     "metadata": {
      "tags": []
     },
     "output_type": "execute_result"
    }
   ],
   "source": [
    "price_standardized"
   ]
  },
  {
   "cell_type": "code",
   "execution_count": 0,
   "metadata": {
    "colab": {},
    "colab_type": "code",
    "id": "BcbMF75O05jw"
   },
   "outputs": [],
   "source": [
    "cleaned_data=project_data.copy()\n",
    "# Adding preprocessed_essays and titles to the dataframe\n",
    "cleaned_data['cleaned_essay']=preprocessed_essays\n",
    "cleaned_data['cleaned_titles']=preprocessed_titles\n",
    "cleaned_data.drop(['project_title','project_essay_1','project_essay_2','project_essay_3','project_essay_4'],axis=1,inplace=True)\n",
    "y=cleaned_data['project_is_approved']\n",
    "cleaned_data.drop(['project_is_approved'],axis=1, inplace=True)\n",
    "x=cleaned_data"
   ]
  },
  {
   "cell_type": "code",
   "execution_count": 0,
   "metadata": {
    "colab": {},
    "colab_type": "code",
    "id": "ab7iwcS70_Xc"
   },
   "outputs": [],
   "source": [
    "from sklearn.model_selection import train_test_split\n",
    "x_train1,x_test,y_train1,y_test=train_test_split(x,y,test_size=0.2,stratify=y)\n",
    "x_train,x_cross,y_train,y_cv=train_test_split(x_train1,y_train1,test_size=0.2,stratify=y_train1)"
   ]
  },
  {
   "cell_type": "code",
   "execution_count": 29,
   "metadata": {
    "colab": {
     "base_uri": "https://localhost:8080/",
     "height": 68
    },
    "colab_type": "code",
    "executionInfo": {
     "elapsed": 1009,
     "status": "ok",
     "timestamp": 1575494558945,
     "user": {
      "displayName": "Himanshu Bandoliya",
      "photoUrl": "",
      "userId": "03705328663112349542"
     },
     "user_tz": -330
    },
    "id": "U8WS4nKq1Aro",
    "outputId": "6b66c528-ae1e-4b22-d6e2-49207077d326"
   },
   "outputs": [
    {
     "name": "stdout",
     "output_type": "stream",
     "text": [
      "(69916, 16) (69916,)\n",
      "(17480, 16) (17480,)\n",
      "(21849, 16) (21849,)\n"
     ]
    }
   ],
   "source": [
    "print(x_train.shape, y_train.shape)\n",
    "print(x_cross.shape, y_cv.shape)\n",
    "print(x_test.shape, y_test.shape)"
   ]
  },
  {
   "cell_type": "code",
   "execution_count": 30,
   "metadata": {
    "colab": {
     "base_uri": "https://localhost:8080/",
     "height": 34
    },
    "colab_type": "code",
    "executionInfo": {
     "elapsed": 942,
     "status": "ok",
     "timestamp": 1575494561245,
     "user": {
      "displayName": "Himanshu Bandoliya",
      "photoUrl": "",
      "userId": "03705328663112349542"
     },
     "user_tz": -330
    },
    "id": "oTkYM8C2Nfhf",
    "outputId": "e79658ff-106d-430f-db67-9c5ecc060b6b"
   },
   "outputs": [
    {
     "data": {
      "text/plain": [
       "array([1, 1, 1, ..., 1, 1, 1])"
      ]
     },
     "execution_count": 30,
     "metadata": {
      "tags": []
     },
     "output_type": "execute_result"
    }
   ],
   "source": [
    "y_train.values"
   ]
  },
  {
   "cell_type": "code",
   "execution_count": 0,
   "metadata": {
    "colab": {},
    "colab_type": "code",
    "id": "RJQfT3_zpKbt"
   },
   "outputs": [],
   "source": [
    "#https://stackoverflow.com/questions/21057621/sklearn-labelencoder-with-never-seen-before-values\n",
    "\n",
    "class LabelEncoderExt(object):\n",
    "    def __init__(self):\n",
    "        \"\"\"\n",
    "        It differs from LabelEncoder by handling new classes and providing a value for it [Unknown]\n",
    "        Unknown will be added in fit and transform will take care of new item. It gives unknown class id\n",
    "        \"\"\"\n",
    "        self.label_encoder = LabelEncoder()\n",
    "        # self.classes_ = self.label_encoder.classes_\n",
    "\n",
    "    def fit(self, data_list):\n",
    "        \"\"\"\n",
    "        This will fit the encoder for all the unique values and introduce unknown value\n",
    "        :param data_list: A list of string\n",
    "        :return: self\n",
    "        \"\"\"\n",
    "        self.label_encoder = self.label_encoder.fit(list(data_list) + ['Unknown'])\n",
    "        self.classes_ = self.label_encoder.classes_\n",
    "\n",
    "        return self\n",
    "\n",
    "    def transform(self, data_list):\n",
    "        \"\"\"\n",
    "        This will transform the data_list to id list where the new values get assigned to Unknown class\n",
    "        :param data_list:\n",
    "        :return:\n",
    "        \"\"\"\n",
    "        new_data_list = list(data_list)\n",
    "        for unique_item in np.unique(data_list):\n",
    "            if unique_item not in self.label_encoder.classes_:\n",
    "                new_data_list = ['Unknown' if x==unique_item else x for x in new_data_list]\n",
    "\n",
    "        return self.label_encoder.transform(new_data_list)\n"
   ]
  },
  {
   "cell_type": "code",
   "execution_count": 0,
   "metadata": {
    "colab": {},
    "colab_type": "code",
    "id": "h7zr4ycpC2qh"
   },
   "outputs": [],
   "source": [
    "x_train['teacher_prefix'].fillna(value=\"Mrs.\", inplace=True)\n",
    "x_cross['teacher_prefix'].fillna(value=\"Mrs.\", inplace=True)\n",
    "x_test['teacher_prefix'].fillna(value=\"Mrs.\", inplace=True)\n",
    "vectorizer = LabelEncoderExt()\n",
    "vectorizer.fit(x_train['teacher_prefix'].values)\n",
    "x_train_teacher_prefix_ohe = vectorizer.transform(x_train['teacher_prefix'].values)\n",
    "x_cv_teacher_prefix_ohe = vectorizer.transform(x_cross['teacher_prefix'].values)\n",
    "x_test_teacher_prefix_ohe = vectorizer.transform(x_test['teacher_prefix'].values)\n",
    "\n",
    "vectorizer = LabelEncoderExt()\n",
    "vectorizer.fit(x_train['school_state'].values)\n",
    "x_train_state_ohe = vectorizer.transform(x_train['school_state'].values)\n",
    "x_cv_state_ohe = vectorizer.transform(x_cross['school_state'].values)\n",
    "x_test_state_ohe = vectorizer.transform(x_test['school_state'].values)\n",
    "\n",
    "vectorizer = LabelEncoderExt()\n",
    "vectorizer.fit(['grades_3_5', 'grades_6_8', 'grades_9_12', 'grades_prek_2'])\n",
    "x_train_grade_ohe = vectorizer.transform(x_train['project_grade_category'].values)\n",
    "x_cv_grade_ohe = vectorizer.transform(x_cross['project_grade_category'].values)\n",
    "x_test_grade_ohe = vectorizer.transform(x_test['project_grade_category'].values)\n",
    "\n",
    "vectorizer = LabelEncoderExt()\n",
    "vectorizer.fit(x_train['clean_categories'].values)\n",
    "x_train_cat_ohe = vectorizer.transform(x_train['clean_categories'].values)\n",
    "x_cv_cat_ohe = vectorizer.transform(x_cross['clean_categories'].values)\n",
    "x_test_cat_ohe = vectorizer.transform(x_test['clean_categories'].values)\n",
    "\n",
    "vectorizer = LabelEncoderExt()\n",
    "vectorizer.fit(x_train['clean_subcategories'].values)\n",
    "x_train_scat_ohe = vectorizer.transform(x_train['clean_subcategories'].values)\n",
    "x_cv_scat_ohe = vectorizer.transform(x_cross['clean_subcategories'].values)\n",
    "x_test_scat_ohe = vectorizer.transform(x_test['clean_subcategories'].values)\n"
   ]
  },
  {
   "cell_type": "code",
   "execution_count": 0,
   "metadata": {
    "colab": {},
    "colab_type": "code",
    "id": "XR1pg-m3jbnS"
   },
   "outputs": [],
   "source": [
    "#https://medium.com/@davidheffernan_99410/an-introduction-to-using-categorical-embeddings-ee686ed7e7f9\n",
    "cat_vars = [\"teacher_prefix\",\"school_state\",\"project_grade_category\",\"clean_categories\",\"clean_subcategories\"]\n",
    "cat_sizes = {}\n",
    "cat_embsizes = {}\n",
    "for cat in cat_vars:\n",
    "    cat_sizes[cat] = x_train[cat].nunique()\n",
    "    cat_embsizes[cat] = min(50, cat_sizes[cat]//2+1)"
   ]
  },
  {
   "cell_type": "code",
   "execution_count": 0,
   "metadata": {
    "colab": {},
    "colab_type": "code",
    "id": "B4hrmyduk0YA"
   },
   "outputs": [],
   "source": [
    "from keras.layers import Reshape"
   ]
  },
  {
   "cell_type": "code",
   "execution_count": 34,
   "metadata": {
    "colab": {
     "base_uri": "https://localhost:8080/",
     "height": 272
    },
    "colab_type": "code",
    "executionInfo": {
     "elapsed": 973,
     "status": "ok",
     "timestamp": 1575494576217,
     "user": {
      "displayName": "Himanshu Bandoliya",
      "photoUrl": "",
      "userId": "03705328663112349542"
     },
     "user_tz": -330
    },
    "id": "hJM8JNoMDFOC",
    "outputId": "0469af6f-6d87-453a-e820-359a36ff6379"
   },
   "outputs": [
    {
     "name": "stdout",
     "output_type": "stream",
     "text": [
      "After normalizing price\n",
      "(69916, 1) (69916,)\n",
      "(17480, 1) (17480,)\n",
      "(21849, 1) (21849,)\n",
      "========================================================\n",
      "After normalizing the quantity\n",
      "(69916, 1) (69916,)\n",
      "(17480, 1) (17480,)\n",
      "(21849, 1) (21849,)\n",
      "========================================================\n",
      "After normalizing the teacher_number_of_previously_posted_projects\n",
      "(69916, 1) (69916,)\n",
      "(17480, 1) (17480,)\n",
      "(21849, 1) (21849,)\n",
      "========================================================\n"
     ]
    }
   ],
   "source": [
    "from sklearn.preprocessing import Normalizer\n",
    "normalizer = Normalizer()\n",
    "normalizer.fit(x_train['price'].values.reshape(1,-1))\n",
    "\n",
    "x_train_price_norm = normalizer.transform(x_train['price'].values.reshape(1,-1)).T\n",
    "x_cv_price_norm = normalizer.transform(x_cross['price'].values.reshape(1,-1)).T\n",
    "x_test_price_norm = normalizer.transform(x_test['price'].values.reshape(1,-1)).T\n",
    "\n",
    "print(\"After normalizing price\")\n",
    "print(x_train_price_norm.shape, y_train.shape)\n",
    "print(x_cv_price_norm.shape, y_cv.shape)\n",
    "print(x_test_price_norm.shape, y_test.shape)\n",
    "\n",
    "print(\"========================================================\")\n",
    "normalizer = Normalizer()\n",
    "normalizer.fit(x_train['quantity'].values.reshape(1,-1))\n",
    "\n",
    "x_train_qty_norm = normalizer.transform(x_train['quantity'].values.reshape(1,-1)).T\n",
    "x_cv_qty_norm = normalizer.transform(x_cross['quantity'].values.reshape(1,-1)).T\n",
    "x_test_qty_norm = normalizer.transform(x_test['quantity'].values.reshape(1,-1)).T\n",
    "print(\"After normalizing the quantity\")\n",
    "print(x_train_qty_norm.shape, y_train.shape)\n",
    "print(x_cv_qty_norm.shape, y_cv.shape)\n",
    "print(x_test_qty_norm.shape, y_test.shape)\n",
    "print(\"========================================================\")\n",
    "\n",
    "normalizer = Normalizer()\n",
    "normalizer.fit(x_train['teacher_number_of_previously_posted_projects'].values.reshape(1,-1))\n",
    "\n",
    "x_train_tpp_norm = normalizer.transform(x_train['teacher_number_of_previously_posted_projects'].values.reshape(1,-1)).T\n",
    "x_cv_tpp_norm = normalizer.transform(x_cross['teacher_number_of_previously_posted_projects'].values.reshape(1,-1)).T\n",
    "x_test_tpp_norm = normalizer.transform(x_test['teacher_number_of_previously_posted_projects'].values.reshape(1,-1)).T\n",
    "print(\"After normalizing the teacher_number_of_previously_posted_projects\")\n",
    "print(x_train_tpp_norm.shape, y_train.shape)\n",
    "print(x_cv_tpp_norm.shape, y_cv.shape)\n",
    "print(x_test_tpp_norm.shape, y_test.shape)\n",
    "\n",
    "print(\"========================================================\")\n",
    "\n"
   ]
  },
  {
   "cell_type": "markdown",
   "metadata": {
    "colab_type": "text",
    "id": "AgRfG82TgyVG"
   },
   "source": [
    "### Assignment 1"
   ]
  },
  {
   "cell_type": "code",
   "execution_count": 0,
   "metadata": {
    "colab": {},
    "colab_type": "code",
    "id": "ib1S0dHDNfiM"
   },
   "outputs": [],
   "source": [
    "\n",
    "from tensorflow.keras import *\n",
    "from tensorboardcolab import *\n",
    "from keras.regularizers import l2"
   ]
  },
  {
   "cell_type": "code",
   "execution_count": 37,
   "metadata": {
    "colab": {
     "base_uri": "https://localhost:8080/",
     "height": 139
    },
    "colab_type": "code",
    "executionInfo": {
     "elapsed": 966,
     "status": "ok",
     "timestamp": 1575494624567,
     "user": {
      "displayName": "Himanshu Bandoliya",
      "photoUrl": "",
      "userId": "03705328663112349542"
     },
     "user_tz": -330
    },
    "id": "7HrX-hDVNfiO",
    "outputId": "4b382997-15db-488d-970b-c4634624a409"
   },
   "outputs": [
    {
     "name": "stdout",
     "output_type": "stream",
     "text": [
      "WARNING:tensorflow:From /usr/local/lib/python3.6/dist-packages/keras/backend/tensorflow_backend.py:107: The name tf.reset_default_graph is deprecated. Please use tf.compat.v1.reset_default_graph instead.\n",
      "\n",
      "WARNING:tensorflow:From /usr/local/lib/python3.6/dist-packages/keras/backend/tensorflow_backend.py:111: The name tf.placeholder_with_default is deprecated. Please use tf.compat.v1.placeholder_with_default instead.\n",
      "\n",
      "WARNING:tensorflow:From /usr/local/lib/python3.6/dist-packages/keras/backend/tensorflow_backend.py:66: The name tf.get_default_graph is deprecated. Please use tf.compat.v1.get_default_graph instead.\n",
      "\n"
     ]
    }
   ],
   "source": [
    "import keras.backend as K\n",
    "K.clear_session()"
   ]
  },
  {
   "cell_type": "code",
   "execution_count": 38,
   "metadata": {
    "colab": {
     "base_uri": "https://localhost:8080/",
     "height": 547
    },
    "colab_type": "code",
    "executionInfo": {
     "elapsed": 3020,
     "status": "ok",
     "timestamp": 1575494650761,
     "user": {
      "displayName": "Himanshu Bandoliya",
      "photoUrl": "",
      "userId": "03705328663112349542"
     },
     "user_tz": -330
    },
    "id": "w3X_qALNmVaI",
    "outputId": "dfd1a738-9458-4154-8d7d-21e13623a2a9"
   },
   "outputs": [
    {
     "name": "stdout",
     "output_type": "stream",
     "text": [
      "After vectorizations of teacher_prefix\n",
      "(69916, 5) (69916,)\n",
      "(17480, 5) (17480,)\n",
      "(21849, 5) (21849,)\n",
      "['dr', 'mr', 'mrs', 'ms', 'teacher']\n",
      "========================================================\n",
      "After vectorizations of school_state\n",
      "(69916, 51) (69916,)\n",
      "(17480, 51) (17480,)\n",
      "(21849, 51) (21849,)\n",
      "['ak', 'al', 'ar', 'az', 'ca', 'co', 'ct', 'dc', 'de', 'fl', 'ga', 'hi', 'ia', 'id', 'il', 'in', 'ks', 'ky', 'la', 'ma', 'md', 'me', 'mi', 'mn', 'mo', 'ms', 'mt', 'nc', 'nd', 'ne', 'nh', 'nj', 'nm', 'nv', 'ny', 'oh', 'ok', 'or', 'pa', 'ri', 'sc', 'sd', 'tn', 'tx', 'ut', 'va', 'vt', 'wa', 'wi', 'wv', 'wy']\n",
      "========================================================\n",
      "After vectorizations of project_grade_category\n",
      "(69916, 4) (69916,)\n",
      "(17480, 4) (17480,)\n",
      "(21849, 4) (21849,)\n",
      "['grades_3_5', 'grades_6_8', 'grades_9_12', 'grades_prek_2']\n",
      "========================================================\n",
      "After vectorizations of clean_categories\n",
      "(69916, 9) (69916,)\n",
      "(17480, 9) (17480,)\n",
      "(21849, 9) (21849,)\n",
      "['appliedlearning', 'care_hunger', 'health_sports', 'history_civics', 'literacy_language', 'math_science', 'music_arts', 'specialneeds', 'warmth']\n",
      "========================================================\n",
      "After vectorizations of clean_subcategories \n",
      "(69916, 30) (69916,)\n",
      "(17480, 30) (17480,)\n",
      "(21849, 30) (21849,)\n",
      "['appliedsciences', 'care_hunger', 'charactereducation', 'civics_government', 'college_careerprep', 'communityservice', 'earlydevelopment', 'economics', 'environmentalscience', 'esl', 'extracurricular', 'financialliteracy', 'foreignlanguages', 'gym_fitness', 'health_lifescience', 'health_wellness', 'history_geography', 'literacy', 'literature_writing', 'mathematics', 'music', 'nutritioneducation', 'other', 'parentinvolvement', 'performingarts', 'socialsciences', 'specialneeds', 'teamsports', 'visualarts', 'warmth']\n",
      "========================================================\n"
     ]
    }
   ],
   "source": [
    "x_train['teacher_prefix'].fillna(value=\"Mrs.\", inplace=True)\n",
    "x_cross['teacher_prefix'].fillna(value=\"Mrs.\", inplace=True)\n",
    "x_test['teacher_prefix'].fillna(value=\"Mrs.\", inplace=True)\n",
    "vectorizer = CountVectorizer()\n",
    "vectorizer.fit(x_train['teacher_prefix'].values)\n",
    "x_train_teacher_prefix_ohe = vectorizer.transform(x_train['teacher_prefix'].values)\n",
    "x_cv_teacher_prefix_ohe = vectorizer.transform(x_cross['teacher_prefix'].values)\n",
    "x_test_teacher_prefix_ohe = vectorizer.transform(x_test['teacher_prefix'].values)\n",
    "teacher_prefix_f=vectorizer.get_feature_names()\n",
    "print(\"After vectorizations of teacher_prefix\")\n",
    "print(x_train_teacher_prefix_ohe.shape, y_train.shape)\n",
    "print(x_cv_teacher_prefix_ohe.shape, y_cv.shape)\n",
    "print(x_test_teacher_prefix_ohe.shape, y_test.shape)\n",
    "print(vectorizer.get_feature_names())\n",
    "\n",
    "print(\"========================================================\")\n",
    "\n",
    "vectorizer = CountVectorizer()\n",
    "vectorizer.fit(x_train['school_state'].values)\n",
    "x_train_state_ohe = vectorizer.transform(x_train['school_state'].values)\n",
    "x_cv_state_ohe = vectorizer.transform(x_cross['school_state'].values)\n",
    "x_test_state_ohe = vectorizer.transform(x_test['school_state'].values)\n",
    "state_f=vectorizer.get_feature_names()\n",
    "print(\"After vectorizations of school_state\")\n",
    "print(x_train_state_ohe.shape, y_train.shape)\n",
    "print(x_cv_state_ohe.shape, y_cv.shape)\n",
    "print(x_test_state_ohe.shape, y_test.shape)\n",
    "print(vectorizer.get_feature_names())\n",
    "print(\"========================================================\")\n",
    "vectorizer = CountVectorizer()\n",
    "vectorizer.fit(['grades_3_5', 'grades_6_8', 'grades_9_12', 'grades_prek_2'])\n",
    "x_train_grade_ohe = vectorizer.transform(x_train['project_grade_category'].values)\n",
    "x_cv_grade_ohe = vectorizer.transform(x_cross['project_grade_category'].values)\n",
    "x_test_grade_ohe = vectorizer.transform(x_test['project_grade_category'].values)\n",
    "teacher_grade_f=vectorizer.get_feature_names()\n",
    "print(\"After vectorizations of project_grade_category\")\n",
    "print(x_train_grade_ohe.shape, y_train.shape)\n",
    "print(x_cv_grade_ohe.shape, y_cv.shape)\n",
    "print(x_test_grade_ohe.shape, y_test.shape)\n",
    "print(vectorizer.get_feature_names())\n",
    "\n",
    "print(\"========================================================\")\n",
    "\n",
    "vectorizer = CountVectorizer()\n",
    "vectorizer.fit(x_train['clean_categories'].values)\n",
    "x_train_cat_ohe = vectorizer.transform(x_train['clean_categories'].values)\n",
    "x_cv_cat_ohe = vectorizer.transform(x_cross['clean_categories'].values)\n",
    "x_test_cat_ohe = vectorizer.transform(x_test['clean_categories'].values)\n",
    "teacher_cat_f=vectorizer.get_feature_names()\n",
    "print(\"After vectorizations of clean_categories\")\n",
    "print(x_train_cat_ohe.shape, y_train.shape)\n",
    "print(x_cv_cat_ohe.shape, y_cv.shape)\n",
    "print(x_test_cat_ohe.shape, y_test.shape)\n",
    "print(vectorizer.get_feature_names())\n",
    "\n",
    "print(\"========================================================\")\n",
    "\n",
    "vectorizer = CountVectorizer()\n",
    "vectorizer.fit(x_train['clean_subcategories'].values)\n",
    "x_train_scat_ohe = vectorizer.transform(x_train['clean_subcategories'].values)\n",
    "x_cv_scat_ohe = vectorizer.transform(x_cross['clean_subcategories'].values)\n",
    "x_test_scat_ohe = vectorizer.transform(x_test['clean_subcategories'].values)\n",
    "teacher_scat_f=vectorizer.get_feature_names()\n",
    "print(\"After vectorizations of clean_subcategories \")\n",
    "print(x_train_scat_ohe.shape, y_train.shape)\n",
    "print(x_cv_scat_ohe.shape, y_cv.shape)\n",
    "print(x_test_scat_ohe.shape, y_test.shape)\n",
    "print(vectorizer.get_feature_names())\n",
    "\n",
    "print(\"========================================================\")"
   ]
  },
  {
   "cell_type": "code",
   "execution_count": 39,
   "metadata": {
    "colab": {
     "base_uri": "https://localhost:8080/",
     "height": 255
    },
    "colab_type": "code",
    "executionInfo": {
     "elapsed": 992,
     "status": "ok",
     "timestamp": 1575494658914,
     "user": {
      "displayName": "Himanshu Bandoliya",
      "photoUrl": "",
      "userId": "03705328663112349542"
     },
     "user_tz": -330
    },
    "id": "zijVM6ApiJu4",
    "outputId": "44cc02e8-c211-416d-95e7-251004363654"
   },
   "outputs": [
    {
     "name": "stdout",
     "output_type": "stream",
     "text": [
      "After normalizing price\n",
      "(69916, 1) (69916,)\n",
      "(17480, 1) (17480,)\n",
      "(21849, 1) (21849,)\n",
      "========================================================\n",
      "After normalizing the quantity\n",
      "(69916, 1) (69916,)\n",
      "(17480, 1) (17480,)\n",
      "(21849, 1) (21849,)\n",
      "========================================================\n",
      "After normalizing the teacher_number_of_previously_posted_projects\n",
      "(69916, 1) (69916,)\n",
      "(17480, 1) (17480,)\n",
      "(21849, 1) (21849,)\n"
     ]
    }
   ],
   "source": [
    "normalizer = Normalizer()\n",
    "normalizer.fit(x_train['price'].values.reshape(-1,1))\n",
    "\n",
    "x_train_price_norm = normalizer.transform(x_train['price'].values.reshape(-1,1))\n",
    "x_cv_price_norm = normalizer.transform(x_cross['price'].values.reshape(-1,1))\n",
    "x_test_price_norm = normalizer.transform(x_test['price'].values.reshape(-1,1))\n",
    "\n",
    "print(\"After normalizing price\")\n",
    "print(x_train_price_norm.shape, y_train.shape)\n",
    "print(x_cv_price_norm.shape, y_cv.shape)\n",
    "print(x_test_price_norm.shape, y_test.shape)\n",
    "\n",
    "print(\"========================================================\")\n",
    "\n",
    "normalizer = Normalizer()\n",
    "normalizer.fit(x_train['quantity'].values.reshape(-1,1))\n",
    "\n",
    "x_train_qty_norm = normalizer.transform(x_train['quantity'].values.reshape(-1,1))\n",
    "x_cv_qty_norm = normalizer.transform(x_cross['quantity'].values.reshape(-1,1))\n",
    "x_test_qty_norm = normalizer.transform(x_test['quantity'].values.reshape(-1,1))\n",
    "print(\"After normalizing the quantity\")\n",
    "print(x_train_qty_norm.shape, y_train.shape)\n",
    "print(x_cv_qty_norm.shape, y_cv.shape)\n",
    "print(x_test_qty_norm.shape, y_test.shape)\n",
    "print(\"========================================================\")\n",
    "\n",
    "normalizer = Normalizer()\n",
    "normalizer.fit(x_train['teacher_number_of_previously_posted_projects'].values.reshape(-1,1))\n",
    "\n",
    "x_train_tpp_norm = normalizer.transform(x_train['teacher_number_of_previously_posted_projects'].values.reshape(-1,1))\n",
    "x_cv_tpp_norm = normalizer.transform(x_cross['teacher_number_of_previously_posted_projects'].values.reshape(-1,1))\n",
    "x_test_tpp_norm = normalizer.transform(x_test['teacher_number_of_previously_posted_projects'].values.reshape(-1,1))\n",
    "print(\"After normalizing the teacher_number_of_previously_posted_projects\")\n",
    "print(x_train_qty_norm.shape, y_train.shape)\n",
    "print(x_cv_qty_norm.shape, y_cv.shape)\n",
    "print(x_test_qty_norm.shape, y_test.shape)"
   ]
  },
  {
   "cell_type": "code",
   "execution_count": 40,
   "metadata": {
    "colab": {
     "base_uri": "https://localhost:8080/",
     "height": 102
    },
    "colab_type": "code",
    "executionInfo": {
     "elapsed": 964,
     "status": "ok",
     "timestamp": 1575494663177,
     "user": {
      "displayName": "Himanshu Bandoliya",
      "photoUrl": "",
      "userId": "03705328663112349542"
     },
     "user_tz": -330
    },
    "id": "Yobe9Z1WiJy9",
    "outputId": "8240d098-a5e6-4069-9312-4913f2bd2b99"
   },
   "outputs": [
    {
     "name": "stdout",
     "output_type": "stream",
     "text": [
      "Final Data matrix\n",
      "(69916, 102) (69916,)\n",
      "(17480, 102) (17480,)\n",
      "(21849, 102) (21849,)\n",
      "====================================================================================================\n"
     ]
    }
   ],
   "source": [
    "x_tr_rem = hstack((x_train_state_ohe, x_train_teacher_prefix_ohe, x_train_grade_ohe,x_train_scat_ohe,x_train_cat_ohe, x_train_price_norm,x_train_qty_norm,x_train_tpp_norm)).todense()\n",
    "x_cv_rem = hstack(( x_cv_state_ohe, x_cv_teacher_prefix_ohe, x_cv_grade_ohe,x_cv_scat_ohe,x_cv_cat_ohe, x_cv_price_norm,x_cv_qty_norm,x_cv_tpp_norm)).todense()\n",
    "x_te_rem = hstack((x_test_state_ohe, x_test_teacher_prefix_ohe, x_test_grade_ohe,x_test_scat_ohe,x_test_cat_ohe, x_test_price_norm,x_test_qty_norm,x_test_tpp_norm)).todense()\n",
    "print(\"Final Data matrix\")\n",
    "print(x_tr_rem.shape, y_train.shape)\n",
    "print(x_cv_rem.shape, y_cv.shape)\n",
    "print(x_te_rem.shape, y_test.shape)\n",
    "print(\"=\"*100)"
   ]
  },
  {
   "cell_type": "code",
   "execution_count": 0,
   "metadata": {
    "colab": {},
    "colab_type": "code",
    "id": "WWmw_caMiJ-6"
   },
   "outputs": [],
   "source": [
    "mms = StandardScaler().fit(x_tr_rem)\n",
    "x_tr_rem_norm = mms.transform(x_tr_rem)\n",
    "x_cv_rem_norm = mms.transform(x_cv_rem)\n",
    "x_te_rem_norm = mms.transform(x_te_rem)"
   ]
  },
  {
   "cell_type": "code",
   "execution_count": 0,
   "metadata": {
    "colab": {
     "base_uri": "https://localhost:8080/",
     "height": 34
    },
    "colab_type": "code",
    "executionInfo": {
     "elapsed": 1055,
     "status": "ok",
     "timestamp": 1575492138985,
     "user": {
      "displayName": "Himanshu Bandoliya",
      "photoUrl": "",
      "userId": "03705328663112349542"
     },
     "user_tz": -330
    },
    "id": "P5Smt6a-pfY3",
    "outputId": "8751b83d-7c41-4b01-b7cc-3712ea88f546"
   },
   "outputs": [
    {
     "data": {
      "text/plain": [
       "(69916, 102)"
      ]
     },
     "execution_count": 255,
     "metadata": {
      "tags": []
     },
     "output_type": "execute_result"
    }
   ],
   "source": [
    "x_tr_rem_norm.shape"
   ]
  },
  {
   "cell_type": "code",
   "execution_count": 0,
   "metadata": {
    "colab": {},
    "colab_type": "code",
    "id": "2hENkS9miKEH"
   },
   "outputs": [],
   "source": [
    "x_tr_rem_reshape = np.array(x_tr_rem).reshape(69916,102,1)\n",
    "x_cv_rem_reshape = np.array(x_cv_rem).reshape(17480, 102,1)\n",
    "x_test_rem_reshape = np.array(x_te_rem).reshape(21849, 102,1)"
   ]
  },
  {
   "cell_type": "code",
   "execution_count": 0,
   "metadata": {
    "colab": {
     "base_uri": "https://localhost:8080/",
     "height": 34
    },
    "colab_type": "code",
    "executionInfo": {
     "elapsed": 1488,
     "status": "ok",
     "timestamp": 1575492156386,
     "user": {
      "displayName": "Himanshu Bandoliya",
      "photoUrl": "",
      "userId": "03705328663112349542"
     },
     "user_tz": -330
    },
    "id": "gzJZHgwRpllw",
    "outputId": "ad6001cf-b00b-4db1-f637-957ce1671601"
   },
   "outputs": [
    {
     "data": {
      "text/plain": [
       "(69916, 102, 1)"
      ]
     },
     "execution_count": 256,
     "metadata": {
      "tags": []
     },
     "output_type": "execute_result"
    }
   ],
   "source": [
    "x_tr_rem_reshape.shape"
   ]
  },
  {
   "cell_type": "code",
   "execution_count": 0,
   "metadata": {
    "colab": {},
    "colab_type": "code",
    "id": "DqmoFmxonSSQ"
   },
   "outputs": [],
   "source": [
    "max_length=400"
   ]
  },
  {
   "cell_type": "code",
   "execution_count": 0,
   "metadata": {
    "colab": {},
    "colab_type": "code",
    "id": "141Wk1runSW_"
   },
   "outputs": [],
   "source": [
    "#https://machinelearningmastery.com/use-word-embedding-layers-deep-learning-keras/\n",
    "def padded(encoded_docs):  \n",
    "  max_length = 400\n",
    "  padded_docs = pad_sequences(encoded_docs, maxlen=max_length, padding='post')\n",
    "  return padded_docs"
   ]
  },
  {
   "cell_type": "code",
   "execution_count": 0,
   "metadata": {
    "colab": {},
    "colab_type": "code",
    "id": "v46wsdJznSms"
   },
   "outputs": [],
   "source": [
    "#https://stackoverflow.com/posts/51956230/revisions\n",
    "t = Tokenizer()\n",
    "t.fit_on_texts(x_train.cleaned_essay)\n",
    "vocab_size = len(t.word_index) + 1\n",
    "# integer encode the documents\n",
    "encoded_docs = t.texts_to_sequences(x_train.cleaned_essay)\n",
    "essay_padded_train = padded(encoded_docs)"
   ]
  },
  {
   "cell_type": "code",
   "execution_count": 0,
   "metadata": {
    "colab": {},
    "colab_type": "code",
    "id": "1y7rR0f2nSr8"
   },
   "outputs": [],
   "source": [
    "\n",
    "#t = Tokenizer()\n",
    "#t.fit_on_texts(x_cross.cleaned_essay)\n",
    "#vocab_size = len(t.word_index) + 1\n",
    "# integer encode the documents\n",
    "encoded_docs = t.texts_to_sequences(x_cross.cleaned_essay)\n",
    "essay_padded_cv = padded(encoded_docs)"
   ]
  },
  {
   "cell_type": "code",
   "execution_count": 0,
   "metadata": {
    "colab": {},
    "colab_type": "code",
    "id": "IPSKEnKhnSvf"
   },
   "outputs": [],
   "source": [
    "\n",
    "#t = Tokenizer()\n",
    "#t.fit_on_texts(x_test.cleaned_essay)\n",
    "#vocab_size = len(t.word_index) + 1\n",
    "# integer encode the documents\n",
    "encoded_docs = t.texts_to_sequences(x_test.cleaned_essay)\n",
    "essay_padded_test = padded(encoded_docs)"
   ]
  },
  {
   "cell_type": "code",
   "execution_count": 0,
   "metadata": {
    "colab": {
     "base_uri": "https://localhost:8080/",
     "height": 68
    },
    "colab_type": "code",
    "executionInfo": {
     "elapsed": 7228,
     "status": "ok",
     "timestamp": 1575491593496,
     "user": {
      "displayName": "Himanshu Bandoliya",
      "photoUrl": "",
      "userId": "03705328663112349542"
     },
     "user_tz": -330
    },
    "id": "P6x3_TtNnSqK",
    "outputId": "90a9f8e4-131c-400c-8448-c3fffd0b93fc"
   },
   "outputs": [
    {
     "name": "stdout",
     "output_type": "stream",
     "text": [
      "encoded train data shape (69916, 400)\n",
      "encoded cv data shape (17480, 400)\n",
      "encoded cv data shape (21849, 400)\n"
     ]
    }
   ],
   "source": [
    "\n",
    "print(\"encoded train data shape\",essay_padded_train.shape)\n",
    "print(\"encoded cv data shape\",essay_padded_cv.shape)\n",
    "print(\"encoded cv data shape\",essay_padded_test.shape)"
   ]
  },
  {
   "cell_type": "code",
   "execution_count": 0,
   "metadata": {
    "colab": {},
    "colab_type": "code",
    "id": "jslf3027nSjz"
   },
   "outputs": [],
   "source": [
    "from numpy import asarray\n",
    "from tensorflow.keras.layers import Conv1D,MaxPooling1D"
   ]
  },
  {
   "cell_type": "code",
   "execution_count": 0,
   "metadata": {
    "colab": {},
    "colab_type": "code",
    "id": "fzZgpH5VzY8y"
   },
   "outputs": [],
   "source": [
    "embeddings_index = dict()\n",
    "f = open('/content/drive/My Drive/Colab Notebooks/lstmDonorChoose/glove.42B.300d.txt','r',encoding=\"utf8\")#f = open(gloveFile,'r', encoding=\"utf8\")\n",
    "for line in f:\n",
    "    values = line.split()\n",
    "    word = values[0]\n",
    "    coefs = asarray(values[1:], dtype='float32')\n",
    "    embeddings_index[word] = coefs\n",
    "f.close()"
   ]
  },
  {
   "cell_type": "code",
   "execution_count": 0,
   "metadata": {
    "colab": {},
    "colab_type": "code",
    "id": "tFeIVRqszY_3"
   },
   "outputs": [],
   "source": [
    "\n",
    "embedding_matrix = zeros((vocab_size, 300))\n",
    "for word, i in t.word_index.items():\n",
    "    embedding_vector = embeddings_index.get(word)\n",
    "    if embedding_vector is not None:\n",
    "        embedding_matrix[i] = embedding_vector"
   ]
  },
  {
   "cell_type": "code",
   "execution_count": 52,
   "metadata": {
    "colab": {
     "base_uri": "https://localhost:8080/",
     "height": 34
    },
    "colab_type": "code",
    "executionInfo": {
     "elapsed": 1053,
     "status": "ok",
     "timestamp": 1575494979144,
     "user": {
      "displayName": "Himanshu Bandoliya",
      "photoUrl": "",
      "userId": "03705328663112349542"
     },
     "user_tz": -330
    },
    "id": "WsL_QuW60AMP",
    "outputId": "4d10cb5c-862b-481d-88de-a0fa259d721d"
   },
   "outputs": [
    {
     "name": "stdout",
     "output_type": "stream",
     "text": [
      "embedding matrix shape (47397, 300)\n"
     ]
    }
   ],
   "source": [
    "print(\"embedding matrix shape\",embedding_matrix.shape)"
   ]
  },
  {
   "cell_type": "code",
   "execution_count": 0,
   "metadata": {
    "colab": {},
    "colab_type": "code",
    "id": "El_Xr-L-0iXy"
   },
   "outputs": [],
   "source": [
    "from tensorflow.keras.layers import Reshape,Concatenate, Dropout"
   ]
  },
  {
   "cell_type": "code",
   "execution_count": 68,
   "metadata": {
    "colab": {
     "base_uri": "https://localhost:8080/",
     "height": 768
    },
    "colab_type": "code",
    "executionInfo": {
     "elapsed": 2205,
     "status": "ok",
     "timestamp": 1575495337259,
     "user": {
      "displayName": "Himanshu Bandoliya",
      "photoUrl": "",
      "userId": "03705328663112349542"
     },
     "user_tz": -330
    },
    "id": "Vc6MVo3vnSgX",
    "outputId": "ef3e591a-6e88-49b0-f676-4c66f593d6c3"
   },
   "outputs": [
    {
     "name": "stdout",
     "output_type": "stream",
     "text": [
      "WARNING:tensorflow:Large dropout rate: 0.6 (>0.5). In TensorFlow 2.x, dropout() uses dropout rate instead of keep_prob. Please ensure that this is intended.\n",
      "WARNING:tensorflow:Large dropout rate: 0.6 (>0.5). In TensorFlow 2.x, dropout() uses dropout rate instead of keep_prob. Please ensure that this is intended.\n",
      "Model: \"model_2\"\n",
      "__________________________________________________________________________________________________\n",
      "Layer (type)                    Output Shape         Param #     Connected to                     \n",
      "==================================================================================================\n",
      "text_input (InputLayer)         [(None, 400)]        0                                            \n",
      "__________________________________________________________________________________________________\n",
      "rem (InputLayer)                [(None, 102, 1)]     0                                            \n",
      "__________________________________________________________________________________________________\n",
      "embedding_4 (Embedding)         (None, 400, 300)     14219100    text_input[0][0]                 \n",
      "__________________________________________________________________________________________________\n",
      "conv1d_4 (Conv1D)               (None, 100, 128)     512         rem[0][0]                        \n",
      "__________________________________________________________________________________________________\n",
      "lstm_4 (LSTM)                   (None, 400, 128)     219648      embedding_4[0][0]                \n",
      "__________________________________________________________________________________________________\n",
      "dropout_5 (Dropout)             (None, 100, 128)     0           conv1d_4[0][0]                   \n",
      "__________________________________________________________________________________________________\n",
      "dropout_3 (Dropout)             (None, 400, 128)     0           lstm_4[0][0]                     \n",
      "__________________________________________________________________________________________________\n",
      "max_pooling1d_4 (MaxPooling1D)  (None, 33, 128)      0           dropout_5[0][0]                  \n",
      "__________________________________________________________________________________________________\n",
      "flatten_8 (Flatten)             (None, 51200)        0           dropout_3[0][0]                  \n",
      "__________________________________________________________________________________________________\n",
      "flatten_9 (Flatten)             (None, 4224)         0           max_pooling1d_4[0][0]            \n",
      "__________________________________________________________________________________________________\n",
      "dropout_4 (Dropout)             (None, 51200)        0           flatten_8[0][0]                  \n",
      "__________________________________________________________________________________________________\n",
      "dropout_6 (Dropout)             (None, 4224)         0           flatten_9[0][0]                  \n",
      "__________________________________________________________________________________________________\n",
      "concatenate_2 (Concatenate)     (None, 55424)        0           dropout_4[0][0]                  \n",
      "                                                                 dropout_6[0][0]                  \n",
      "__________________________________________________________________________________________________\n",
      "dense_6 (Dense)                 (None, 32)           1773600     concatenate_2[0][0]              \n",
      "__________________________________________________________________________________________________\n",
      "dense_7 (Dense)                 (None, 16)           528         dense_6[0][0]                    \n",
      "__________________________________________________________________________________________________\n",
      "dense_8 (Dense)                 (None, 2)            34          dense_7[0][0]                    \n",
      "==================================================================================================\n",
      "Total params: 16,213,422\n",
      "Trainable params: 16,213,422\n",
      "Non-trainable params: 0\n",
      "__________________________________________________________________________________________________\n"
     ]
    }
   ],
   "source": [
    "text_input = Input(shape=(400,), name = \"text_input\")\n",
    "# max_length = 150 ---->max length of sentence\n",
    "\n",
    "e1 = Embedding(vocab_size, 300, weights=[embedding_matrix], input_length=400)(text_input)\n",
    "l1= LSTM(128,activation = \"relu\",dropout=0.5,kernel_regularizer=l2(0.001),kernel_initializer='glorot_normal',return_sequences=True,input_shape=(150,300))(e1)\n",
    "l1= Dropout(0.6)(l1)\n",
    "f1= Flatten()(l1)\n",
    "f1= Dropout(0.6)(f1)\n",
    "rem = Input(shape=(x_tr_rem.shape[1],1), name=\"rem\")\n",
    "rem_conv1 = Conv1D(128, 3,kernel_initializer='glorot_normal')(rem)\n",
    "rem_conv1= Dropout(0.6)(rem_conv1)\n",
    "max_pool =MaxPooling1D(3)(rem_conv1)\n",
    "f2= Flatten()(max_pool)\n",
    "f2= Dropout(0.6)(f2)\n",
    "x = Concatenate()([f1,f2])\n",
    "x= Dense(32,kernel_regularizer=l2(0.001),kernel_initializer='glorot_normal')(x)\n",
    "x= Dense(16, activation='relu')(x)\n",
    "output=Dense(2, activation='softmax')(x)\n",
    "model_3 = Model(inputs=[text_input,rem], outputs=output)\n",
    "model_3.summary()"
   ]
  },
  {
   "cell_type": "code",
   "execution_count": 0,
   "metadata": {
    "colab": {},
    "colab_type": "code",
    "id": "O2nWoKFa0rko"
   },
   "outputs": [],
   "source": [
    "#https://stackoverflow.com/posts/51734992/revisions\n",
    "import tensorflow as tf\n",
    "from sklearn.metrics import roc_auc_score\n",
    "\n",
    "def auroc(y_true, y_pred):\n",
    "    return tf.py_function(roc_auc_score, (y_true, y_pred), tf.double)"
   ]
  },
  {
   "cell_type": "code",
   "execution_count": 0,
   "metadata": {
    "colab": {},
    "colab_type": "code",
    "id": "R9x358e0nSdL"
   },
   "outputs": [],
   "source": [
    "\n",
    "adam = tf.keras.optimizers.Adam(lr=0.001)\n",
    "model_3.compile(optimizer=adam, loss='categorical_crossentropy',metrics=[auroc])"
   ]
  },
  {
   "cell_type": "code",
   "execution_count": 0,
   "metadata": {
    "colab": {},
    "colab_type": "code",
    "id": "Mr5Y3i3onSa7"
   },
   "outputs": [],
   "source": [
    "batch_size=512"
   ]
  },
  {
   "cell_type": "code",
   "execution_count": 0,
   "metadata": {
    "colab": {},
    "colab_type": "code",
    "id": "qJNTZcJunSPy"
   },
   "outputs": [],
   "source": [
    "logdir = './lstm_callbacks'\n",
    "\n",
    "if not os.path.exists(logdir):\n",
    "    os.mkdir(logdir)\n",
    "output_model_file = os.path.join(logdir,\n",
    "                                 \"lstm_model_3.h5\")"
   ]
  },
  {
   "cell_type": "code",
   "execution_count": 0,
   "metadata": {
    "colab": {},
    "colab_type": "code",
    "id": "sHXDwusPnSNI"
   },
   "outputs": [],
   "source": [
    "from tensorflow.keras.callbacks import *\n",
    "callbacks = [\n",
    "    \n",
    "    ModelCheckpoint(output_model_file, monitor='val_loss',\n",
    "                                    save_best_only = True),\n",
    "    EarlyStopping(patience=5, min_delta=1e-3),\n",
    "]"
   ]
  },
  {
   "cell_type": "code",
   "execution_count": 0,
   "metadata": {
    "colab": {},
    "colab_type": "code",
    "id": "d51-PBb906JI"
   },
   "outputs": [],
   "source": [
    "y_binary_train = to_categorical(y_train)\n",
    "y_binary_cv = to_categorical(y_cv)\n",
    "y_binary_test = to_categorical(y_test)"
   ]
  },
  {
   "cell_type": "code",
   "execution_count": 70,
   "metadata": {
    "colab": {
     "base_uri": "https://localhost:8080/",
     "height": 462
    },
    "colab_type": "code",
    "executionInfo": {
     "elapsed": 1116612,
     "status": "ok",
     "timestamp": 1575496467088,
     "user": {
      "displayName": "Himanshu Bandoliya",
      "photoUrl": "",
      "userId": "03705328663112349542"
     },
     "user_tz": -330
    },
    "id": "IscdiAhSoEUI",
    "outputId": "3303d75f-3607-45a6-cff4-3b8d2899aca9"
   },
   "outputs": [
    {
     "name": "stdout",
     "output_type": "stream",
     "text": [
      "Train on 69916 samples, validate on 17480 samples\n",
      "Epoch 1/20\n",
      "69916/69916 [==============================] - 94s 1ms/sample - loss: 0.6967 - auroc: 0.5927 - val_loss: 0.5465 - val_auroc: 0.6926\n",
      "Epoch 2/20\n",
      "69916/69916 [==============================] - 93s 1ms/sample - loss: 0.4725 - auroc: 0.7063 - val_loss: 0.4436 - val_auroc: 0.7362\n",
      "Epoch 3/20\n",
      "69916/69916 [==============================] - 93s 1ms/sample - loss: 0.4268 - auroc: 0.7369 - val_loss: 0.4215 - val_auroc: 0.7359\n",
      "Epoch 4/20\n",
      "69916/69916 [==============================] - 93s 1ms/sample - loss: 0.4054 - auroc: 0.7562 - val_loss: 0.4203 - val_auroc: 0.7446\n",
      "Epoch 5/20\n",
      "69916/69916 [==============================] - 93s 1ms/sample - loss: 0.3950 - auroc: 0.7674 - val_loss: 0.4095 - val_auroc: 0.7428\n",
      "Epoch 6/20\n",
      "69916/69916 [==============================] - 93s 1ms/sample - loss: 0.3845 - auroc: 0.7834 - val_loss: 0.4072 - val_auroc: 0.7495\n",
      "Epoch 7/20\n",
      "69916/69916 [==============================] - 93s 1ms/sample - loss: 0.3770 - auroc: 0.7931 - val_loss: 0.4032 - val_auroc: 0.7435\n",
      "Epoch 8/20\n",
      "69916/69916 [==============================] - 93s 1ms/sample - loss: 0.3681 - auroc: 0.8055 - val_loss: 0.4047 - val_auroc: 0.7409\n",
      "Epoch 9/20\n",
      "69916/69916 [==============================] - 92s 1ms/sample - loss: 0.3612 - auroc: 0.8165 - val_loss: 0.4197 - val_auroc: 0.7350\n",
      "Epoch 10/20\n",
      "69916/69916 [==============================] - 93s 1ms/sample - loss: 0.4961 - auroc: 0.8159 - val_loss: 0.4757 - val_auroc: 0.7332\n",
      "Epoch 11/20\n",
      "69916/69916 [==============================] - 93s 1ms/sample - loss: 0.4026 - auroc: 0.8307 - val_loss: 0.4658 - val_auroc: 0.7265\n",
      "Epoch 12/20\n",
      "69916/69916 [==============================] - 93s 1ms/sample - loss: 0.3774 - auroc: 0.8474 - val_loss: 0.4747 - val_auroc: 0.7179\n"
     ]
    }
   ],
   "source": [
    "history_3= model_3.fit({'text_input': essay_padded_train, 'rem':x_tr_rem_reshape},y_binary_train,\n",
    "          epochs=20, batch_size=batch_size,verbose=1, validation_data=({'text_input': essay_padded_cv, 'rem': x_cv_rem_reshape},y_binary_cv),callbacks=callbacks)"
   ]
  },
  {
   "cell_type": "code",
   "execution_count": 71,
   "metadata": {
    "colab": {
     "base_uri": "https://localhost:8080/",
     "height": 34
    },
    "colab_type": "code",
    "executionInfo": {
     "elapsed": 8488,
     "status": "ok",
     "timestamp": 1575496663584,
     "user": {
      "displayName": "Himanshu Bandoliya",
      "photoUrl": "",
      "userId": "03705328663112349542"
     },
     "user_tz": -330
    },
    "id": "GWgEzqgwoEeA",
    "outputId": "c59f4f9e-d844-4ddf-81bf-be13366690e7"
   },
   "outputs": [
    {
     "name": "stdout",
     "output_type": "stream",
     "text": [
      "21849/21849 [==============================] - 7s 339us/sample - loss: 0.4681 - auroc: 0.7287\n"
     ]
    }
   ],
   "source": [
    "result = model_3.evaluate({'text_input': essay_padded_test, 'rem':x_test_rem_reshape},\n",
    "          y_binary_test,batch_size=batch_size,callbacks=callbacks)"
   ]
  },
  {
   "cell_type": "markdown",
   "metadata": {
    "colab_type": "text",
    "id": "26XYF_aV68Y6"
   },
   "source": [
    "Model 3 Accuracy : 72.87 with loss = 0.4681"
   ]
  }
 ],
 "metadata": {
  "accelerator": "GPU",
  "colab": {
   "collapsed_sections": [],
   "name": "Copy of LSTM_Copy.ipynb",
   "provenance": [],
   "toc_visible": true
  },
  "kernelspec": {
   "display_name": "Python 3",
   "language": "python",
   "name": "python3"
  },
  "language_info": {
   "codemirror_mode": {
    "name": "ipython",
    "version": 3
   },
   "file_extension": ".py",
   "mimetype": "text/x-python",
   "name": "python",
   "nbconvert_exporter": "python",
   "pygments_lexer": "ipython3",
   "version": "3.7.3"
  }
 },
 "nbformat": 4,
 "nbformat_minor": 1
}
